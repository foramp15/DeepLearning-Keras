{
  "nbformat": 4,
  "nbformat_minor": 0,
  "metadata": {
    "colab": {
      "name": "CNN_MNIST_Digits.ipynb",
      "provenance": []
    },
    "kernelspec": {
      "name": "python3",
      "display_name": "Python 3"
    },
    "accelerator": "GPU"
  },
  "cells": [
    {
      "cell_type": "code",
      "metadata": {
        "id": "9w0U1hz_Aa6m",
        "colab_type": "code",
        "colab": {}
      },
      "source": [
        "import tensorflow as tf\n",
        "from keras.datasets import mnist"
      ],
      "execution_count": 47,
      "outputs": []
    },
    {
      "cell_type": "code",
      "metadata": {
        "id": "3dkJPBP4cjLn",
        "colab_type": "code",
        "colab": {
          "base_uri": "https://localhost:8080/",
          "height": 54
        },
        "outputId": "bf370ac6-8288-4589-ae03-4832687983c1"
      },
      "source": [
        "#Loading the dataset\n",
        "(X_train, Y_train), (X_test, Y_test) = mnist.load_data()\n",
        "\n",
        "print(\"Training Examples: \",X_train.shape[0]) \n",
        "print(\"Testing Examples: \",X_test.shape[0])"
      ],
      "execution_count": 48,
      "outputs": [
        {
          "output_type": "stream",
          "text": [
            "Training Examples:  60000\n",
            "Testing Examples:  10000\n"
          ],
          "name": "stdout"
        }
      ]
    },
    {
      "cell_type": "code",
      "metadata": {
        "id": "oK3FBY9ghaIa",
        "colab_type": "code",
        "colab": {
          "base_uri": "https://localhost:8080/",
          "height": 276
        },
        "outputId": "a8b58944-8a9e-45a7-c7e1-0bc38cbf3aa9"
      },
      "source": [
        "#Visualizing the images\n",
        "import matplotlib.pyplot as plt\n",
        "%matplotlib inline\n",
        "\n",
        "n = 6\n",
        "images = X_train[:n]\n",
        "labels = Y_train[:n]\n",
        "\n",
        "n_row = 2\n",
        "n_col = 3\n",
        "fig, axes = plt.subplots(n_row, n_col, figsize=(1.5*n_col,2*n_row))\n",
        "for i in range(n):\n",
        "    ax = axes[i//n_col, i%n_col]\n",
        "    ax.imshow(images[i], cmap='Greys')\n",
        "    ax.set_title('Label: {}'.format(labels[i]))\n",
        "plt.tight_layout()\n",
        "plt.show()\n"
      ],
      "execution_count": 49,
      "outputs": [
        {
          "output_type": "display_data",
          "data": {
            "image/png": "[encoded data removed]",
            "text/plain": [
              "<Figure size 324x288 with 6 Axes>"
            ]
          },
          "metadata": {
            "tags": [],
            "needs_background": "light"
          }
        }
      ]
    },
    {
      "cell_type": "code",
      "metadata": {
        "id": "psJK4UL5cx27",
        "colab_type": "code",
        "colab": {}
      },
      "source": [
        "#Data preprocessing by reshaping the data to feed the model\n",
        "X_train = X_train.reshape(60000,28,28,1) #60000 training examples, 1-> Grey scale images\n",
        "X_test = X_test.reshape(10000,28,28,1) #10000 test examples, 1-> Grey scale images\n",
        "\n",
        "#Normalizing the data\n",
        "X_train = X_train/255.0\n",
        "X_test = X_test/255.0"
      ],
      "execution_count": 50,
      "outputs": []
    },
    {
      "cell_type": "code",
      "metadata": {
        "id": "ENqe20c2eXhl",
        "colab_type": "code",
        "colab": {}
      },
      "source": [
        "#Creating Callback function to stop the model training when a specific accuracy or loss is achieved!\n",
        "\n",
        "class myCallback(tf.keras.callbacks.Callback):\n",
        "  def on_epoch_end(self, epoch, logs={}):\n",
        "    if(logs.get('accuracy')>0.999):\n",
        "      print(\"\\nReached 99.9% accuracy, so training is stopped!\")\n",
        "      self.model.stop_training = True\n",
        "\n",
        "callbacks = myCallback()"
      ],
      "execution_count": 51,
      "outputs": []
    },
    {
      "cell_type": "code",
      "metadata": {
        "id": "wVuZgNhlfqYu",
        "colab_type": "code",
        "colab": {
          "base_uri": "https://localhost:8080/",
          "height": 384
        },
        "outputId": "c5703038-1533-4ff4-be00-7d180bbe1de0"
      },
      "source": [
        "# Creating our CNN model\n",
        "from keras.models import Sequential\n",
        "from keras.layers import Dense, Flatten, Conv2D, MaxPooling2D\n",
        "\n",
        "model = Sequential()\n",
        "model.add(Conv2D(32, kernel_size=3, activation='relu', input_shape=(28,28,1)))\n",
        "model.add(MaxPooling2D(2,2))\n",
        "model.add(Conv2D(64, kernel_size=3, activation='relu'))\n",
        "model.add(MaxPooling2D(2,2))\n",
        "model.add(Flatten())\n",
        "model.add(Dense(units=10, activation='softmax'))\n",
        "\n",
        "#Compiling our model using appropriate Optimizer, Loss Function and Metrics\n",
        "model.compile(optimizer='adam', loss='sparse_categorical_crossentropy', metrics=['accuracy'])\n",
        "\n",
        "#Displays summary of the model we built.\n",
        "model.summary()"
      ],
      "execution_count": 52,
      "outputs": [
        {
          "output_type": "stream",
          "text": [
            "Model: \"sequential_4\"\n",
            "_________________________________________________________________\n",
            "Layer (type)                 Output Shape              Param #   \n",
            "=================================================================\n",
            "conv2d_7 (Conv2D)            (None, 26, 26, 32)        320       \n",
            "_________________________________________________________________\n",
            "max_pooling2d_7 (MaxPooling2 (None, 13, 13, 32)        0         \n",
            "_________________________________________________________________\n",
            "conv2d_8 (Conv2D)            (None, 11, 11, 64)        18496     \n",
            "_________________________________________________________________\n",
            "max_pooling2d_8 (MaxPooling2 (None, 5, 5, 64)          0         \n",
            "_________________________________________________________________\n",
            "flatten_4 (Flatten)          (None, 1600)              0         \n",
            "_________________________________________________________________\n",
            "dense_4 (Dense)              (None, 10)                16010     \n",
            "=================================================================\n",
            "Total params: 34,826\n",
            "Trainable params: 34,826\n",
            "Non-trainable params: 0\n",
            "_________________________________________________________________\n"
          ],
          "name": "stdout"
        }
      ]
    },
    {
      "cell_type": "code",
      "metadata": {
        "id": "pKbwCQZek6KX",
        "colab_type": "code",
        "colab": {
          "base_uri": "https://localhost:8080/",
          "height": 788
        },
        "outputId": "e94c7e9f-d060-4a4a-c9ec-0b86839a9b7c"
      },
      "source": [
        "history = model.fit(X_train, Y_train,\n",
        "                    batch_size=32,\n",
        "                    epochs=25,\n",
        "                    callbacks=[callbacks])"
      ],
      "execution_count": 53,
      "outputs": [
        {
          "output_type": "stream",
          "text": [
            "Epoch 1/25\n",
            "60000/60000 [==============================] - 6s 99us/step - loss: 0.1563 - accuracy: 0.9531\n",
            "Epoch 2/25\n",
            "60000/60000 [==============================] - 6s 97us/step - loss: 0.0531 - accuracy: 0.9837\n",
            "Epoch 3/25\n",
            "60000/60000 [==============================] - 6s 97us/step - loss: 0.0393 - accuracy: 0.9878\n",
            "Epoch 4/25\n",
            "60000/60000 [==============================] - 6s 97us/step - loss: 0.0314 - accuracy: 0.9899\n",
            "Epoch 5/25\n",
            "60000/60000 [==============================] - 6s 97us/step - loss: 0.0247 - accuracy: 0.9918\n",
            "Epoch 6/25\n",
            "60000/60000 [==============================] - 6s 97us/step - loss: 0.0204 - accuracy: 0.9933\n",
            "Epoch 7/25\n",
            "60000/60000 [==============================] - 6s 95us/step - loss: 0.0157 - accuracy: 0.9950\n",
            "Epoch 8/25\n",
            "60000/60000 [==============================] - 6s 97us/step - loss: 0.0133 - accuracy: 0.9954\n",
            "Epoch 9/25\n",
            "60000/60000 [==============================] - 6s 97us/step - loss: 0.0107 - accuracy: 0.9963\n",
            "Epoch 10/25\n",
            "60000/60000 [==============================] - 6s 97us/step - loss: 0.0089 - accuracy: 0.9969\n",
            "Epoch 11/25\n",
            "60000/60000 [==============================] - 6s 96us/step - loss: 0.0076 - accuracy: 0.9976\n",
            "Epoch 12/25\n",
            "60000/60000 [==============================] - 6s 95us/step - loss: 0.0070 - accuracy: 0.9976\n",
            "Epoch 13/25\n",
            "60000/60000 [==============================] - 6s 96us/step - loss: 0.0064 - accuracy: 0.9977\n",
            "Epoch 14/25\n",
            "60000/60000 [==============================] - 6s 96us/step - loss: 0.0052 - accuracy: 0.9982\n",
            "Epoch 15/25\n",
            "60000/60000 [==============================] - 6s 96us/step - loss: 0.0053 - accuracy: 0.9981\n",
            "Epoch 16/25\n",
            "60000/60000 [==============================] - 6s 95us/step - loss: 0.0049 - accuracy: 0.9983\n",
            "Epoch 17/25\n",
            "60000/60000 [==============================] - 6s 96us/step - loss: 0.0041 - accuracy: 0.9985\n",
            "Epoch 18/25\n",
            "60000/60000 [==============================] - 6s 97us/step - loss: 0.0034 - accuracy: 0.9987\n",
            "Epoch 19/25\n",
            "60000/60000 [==============================] - 6s 95us/step - loss: 0.0047 - accuracy: 0.9986\n",
            "Epoch 20/25\n",
            "60000/60000 [==============================] - 6s 96us/step - loss: 0.0022 - accuracy: 0.9992\n",
            "\n",
            "Reached 99.9% accuracy, so training is stopped!\n"
          ],
          "name": "stdout"
        }
      ]
    },
    {
      "cell_type": "code",
      "metadata": {
        "id": "ZXvji-wpm9Hg",
        "colab_type": "code",
        "colab": {
          "base_uri": "https://localhost:8080/",
          "height": 72
        },
        "outputId": "163e220b-2d20-4097-d1dc-5f1a6063be31"
      },
      "source": [
        "#Evaluation of the model on Testing images\n",
        "\n",
        "test_loss, test_acc = model.evaluate(X_test, Y_test)\n",
        "print(\"Test Loss: \", test_loss)\n",
        "print(\"Test Accuracy: \", test_acc)"
      ],
      "execution_count": 56,
      "outputs": [
        {
          "output_type": "stream",
          "text": [
            "10000/10000 [==============================] - 1s 53us/step\n",
            "Test Loss:  0.039875187334429414\n",
            "Test Accuracy:  0.9912999868392944\n"
          ],
          "name": "stdout"
        }
      ]
    }
  ]
}